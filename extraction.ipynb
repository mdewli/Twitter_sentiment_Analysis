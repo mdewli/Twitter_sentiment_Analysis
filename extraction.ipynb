{
 "metadata": {
  "language_info": {
   "codemirror_mode": {
    "name": "ipython",
    "version": 3
   },
   "file_extension": ".py",
   "mimetype": "text/x-python",
   "name": "python",
   "nbconvert_exporter": "python",
   "pygments_lexer": "ipython3",
   "version": "3.8.6-final"
  },
  "orig_nbformat": 2,
  "kernelspec": {
   "name": "python3",
   "display_name": "Python 3.8.6 64-bit ('venv': venv)",
   "metadata": {
    "interpreter": {
     "hash": "4fa9136c1dce0ecf9bf129e7f48ad7c6e50e7746521c19fa09188afe10f9598b"
    }
   }
  }
 },
 "nbformat": 4,
 "nbformat_minor": 2,
 "cells": [
  {
   "cell_type": "code",
   "execution_count": 15,
   "metadata": {},
   "outputs": [],
   "source": [
    "#IMPORT LIBRARIES\n",
    "\n",
    "import re\n",
    "import pandas as pd\n",
    "import numpy as np\n",
    "import tweepy as tw\n",
    "import matplotlib.pyplot as plt\n",
    "import time\n",
    "import datetime"
   ]
  },
  {
   "cell_type": "code",
   "execution_count": 16,
   "metadata": {},
   "outputs": [],
   "source": [
    "#CREATE AUTHENTICATION OBJECT USING YOUR CONSUMER KEY AND ACCESS TOKEN"
   ]
  },
  {
   "cell_type": "code",
   "execution_count": 17,
   "metadata": {},
   "outputs": [],
   "source": [
    "consumer_key=\"****************\"\n",
    "\n",
    "consumer_secret=\"*************************\"\n",
    "\n",
    "access_token=\"**************************\"\n",
    "\n",
    "access_token_secret=\"**********************************\""
   ]
  },
  {
   "cell_type": "code",
   "execution_count": 18,
   "metadata": {},
   "outputs": [],
   "source": [
    "# Creating the authentication object\n",
    "auth = tw.OAuthHandler(consumer_key, consumer_secret)\n",
    "# Setting your access token and secret\n",
    "auth.set_access_token(access_token, access_token_secret)\n",
    "# Creating the API object while passing in auth information\n",
    "api = tw.API(auth,wait_on_rate_limit=True)"
   ]
  },
  {
   "cell_type": "code",
   "execution_count": 19,
   "metadata": {},
   "outputs": [],
   "source": [
    "#Define Keywords for search on twitter\n",
    "\n",
    "keywords_india=[\"Modi\",'BJP','Government','Economy','GDP','Corona','Covid']\n",
    "\n",
    "keywords_turkey=[\"Erdoğan\",'AKP','hükümet','Ekonomi','GSYİH','Corona','Covid']\n",
    "\n",
    "keywords_germany=[\"Merkel\",'CDP','Regierung','Wirtschaft','BIP','Corona','Covid']\n",
    "\n",
    "\n",
    "#geocodes are defined by latitude, longitude and radius to get tweets for a specific location\n",
    "\n",
    "\n",
    "geocodes_india={'28.7041,77.1025,30km':'Delhi','19.0760,72.8777,30km':'Mumbai',\n",
    "                '13.0827,80.2707,30km':'Chennai','22.5726,88.3639,30km':'Kolkata'}\n",
    "\n",
    "\n",
    "geocodes_turkey={'41.0082,28.9784,30km':'Istanbul','39.9334,32.8597,30km':'Ankara',\n",
    "                '38.4237,27.1428,30km':'Izmir','36.8969,30.7133,30km':'Antalya'}\n",
    "\n",
    "\n",
    "geocodes_germany={'52.5200,13.4050,30km':'Berlin','48.1351,11.5820,30km':'Munich',\n",
    "                '50.9375,6.9603,30km':'Cologne','53.5511,9.9937,30km':'Hamburg'}\n",
    "\n",
    "\n",
    "\n",
    "num_tweets= 1500   # number of tweets for each keyword\n",
    "\n",
    "#Creating a function to get tweets, timestamp, location,keyword for each keyword, geocode in a dictionary as key, value pairs\n",
    "\n",
    "def get_tweets(keywords,geocodes,num_tweets):\n",
    "    Data_set={}\n",
    "    Data_set['Tweets']=[]\n",
    "    Data_set['Timestamp']=[]\n",
    "    Data_set['Location']=[]\n",
    "    Data_set['Keyword']=[]\n",
    "    for keyword in keywords:\n",
    "        for geo_code in geocodes.keys():\n",
    "            query=tw.Cursor(api.search,q=keyword,geocode=geo_code).items(num_tweets)\n",
    "            for tweet in query:\n",
    "                if (not tweet.retweeted) and ('RT @' not in tweet.text):\n",
    "                    Data_set['Tweets'].append(tweet.text)\n",
    "                    Data_set['Timestamp'].append(tweet.created_at)\n",
    "                    Data_set['Location'].append(geocodes[geo_code])\n",
    "                    Data_set['Keyword'].append(keyword)\n",
    "\n",
    "    return Data_set"
   ]
  },
  {
   "cell_type": "code",
   "execution_count": 20,
   "metadata": {},
   "outputs": [],
   "source": [
    "# tweets_india=get_tweets(keywords_india,geocodes_india,num_tweets) \n",
    "\n",
    "# df_india=pd.DataFrame(tweets_india)  \n",
    "\n",
    "# df_india.to_csv('./dataset/India_dataset.csv',encoding='utf-8')   #save data_set for India as a CSV file\n",
    "\n",
    "# df_india.head()"
   ]
  },
  {
   "cell_type": "code",
   "execution_count": 23,
   "metadata": {},
   "outputs": [],
   "source": [
    "# tweets_turkey=get_tweets(keywords_turkey,geocodes_turkey,num_tweets)\n",
    "\n",
    "# df_turkey=pd.DataFrame(tweets_turkey)  \n",
    "\n",
    "# df_turkey.to_csv('./dataset/Turkey_dataset.csv',encoding='utf-8')\n",
    "\n",
    "# df_turkey.head()"
   ]
  },
  {
   "cell_type": "code",
   "execution_count": 22,
   "metadata": {},
   "outputs": [],
   "source": [
    "# tweets_germany=get_tweets(keywords_germany,geocodes_germany,num_tweets) \n",
    "\n",
    "# df_germany=pd.DataFrame(tweets_germany) \n",
    "\n",
    "# df_germany.to_csv('./dataset/Germany_dataset.csv',encoding='utf-8')\n",
    "\n",
    "# df_germany.head()"
   ]
  },
  {
   "cell_type": "code",
   "execution_count": null,
   "metadata": {},
   "outputs": [],
   "source": []
  }
 ]
}